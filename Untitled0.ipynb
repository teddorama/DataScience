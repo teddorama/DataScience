{
  "nbformat": 4,
  "nbformat_minor": 0,
  "metadata": {
    "colab": {
      "name": "Untitled0.ipynb",
      "version": "0.3.2",
      "provenance": [],
      "toc_visible": true
    },
    "kernelspec": {
      "name": "python2",
      "display_name": "Python 2"
    }
  },
  "cells": [
    {
      "cell_type": "markdown",
      "metadata": {
        "id": "view-in-github",
        "colab_type": "text"
      },
      "source": [
        "[View in Colaboratory](https://colab.research.google.com/github/teddorama/DataScience/blob/master/Untitled0.ipynb)"
      ]
    },
    {
      "metadata": {
        "id": "wRmagiVWRKxk",
        "colab_type": "code",
        "colab": {}
      },
      "cell_type": "code",
      "source": [
        "### TEST\n"
      ],
      "execution_count": 0,
      "outputs": []
    },
    {
      "metadata": {
        "id": "6VSpuvZiRNmr",
        "colab_type": "text"
      },
      "cell_type": "markdown",
      "source": [
        "# 새 섹션\n",
        "### TEST\n",
        "---\n",
        "```\n",
        "code\n",
        "code2\n",
        "```\n",
        "\n"
      ]
    }
  ]
}
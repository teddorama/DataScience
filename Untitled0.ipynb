{
  "nbformat": 4,
  "nbformat_minor": 0,
  "metadata": {
    "colab": {
      "name": "Untitled0.ipynb",
      "version": "0.3.2",
      "provenance": [],
      "toc_visible": true
    },
    "kernelspec": {
      "name": "python2",
      "display_name": "Python 2"
    }
  },
  "cells": [
    {
      "cell_type": "markdown",
      "metadata": {
        "id": "view-in-github",
        "colab_type": "text"
      },
      "source": [
        "[View in Colaboratory](https://colab.research.google.com/github/teddorama/DataScience/blob/master/Untitled0.ipynb)"
      ]
    },
    {
      "metadata": {
        "id": "wRmagiVWRKxk",
        "colab_type": "code",
        "colab": {
          "base_uri": "https://localhost:8080/",
          "height": 17
        },
        "outputId": "4e5d4b32-8e41-4c0f-ded0-f1f7c913a213"
      },
      "cell_type": "code",
      "source": [
        "### TEST222\n"
      ],
      "execution_count": 0,
      "outputs": []
    },
    {
      "metadata": {
        "id": "6VSpuvZiRNmr",
        "colab_type": "text"
      },
      "cell_type": "markdown",
      "source": [
        "# 새 섹션\n",
        "### TEST\n",
        "---\n",
        "```\n",
        "code\n",
        "code2\n",
        "```\n",
        "ddd\n",
        "\n",
        "\n"
      ]
    }
  ]
}